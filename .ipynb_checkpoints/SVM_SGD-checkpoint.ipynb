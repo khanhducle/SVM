{
 "cells": [
  {
   "cell_type": "code",
   "execution_count": 1,
   "metadata": {
    "collapsed": true
   },
   "outputs": [],
   "source": [
    "import matplotlib.pyplot as plt\n",
    "from sklearn.metrics import accuracy_score\n",
    "from sklearn import datasets\n",
    "import numpy as np\n",
    "import random"
   ]
  },
  {
   "cell_type": "markdown",
   "metadata": {},
   "source": [
    "## SGD for SVM"
   ]
  },
  {
   "cell_type": "code",
   "execution_count": 3,
   "metadata": {
    "collapsed": true
   },
   "outputs": [],
   "source": [
    "def SVM_dual(X, y, C, num_iterations):\n",
    "    n = len(y)\n",
    "    learning_rate = 1 / np.diagonal(np.dot(X, X.T))\n",
    "    K = np.dot(X, X.T)\n",
    "    alpha = np.zeros(n)\n",
    "    for count in range(num_iterations):\n",
    "        for k in range(n):  \n",
    "            # gradient = 1 - y[k] * np.sum(alpha * y * K[:, k]) (slow)           \n",
    "            gradient = 1 - y[k] * np.dot(alpha, y * K[:, k])\n",
    "            alpha[k] += learning_rate[k] * gradient\n",
    "            alpha[k] = 0 if alpha[k] < 0 else C if alpha[k] > C else alpha[k]\n",
    "\n",
    "    return alpha"
   ]
  },
  {
   "cell_type": "markdown",
   "metadata": {},
   "source": [
    "## Finding accuracy"
   ]
  },
  {
   "cell_type": "code",
   "execution_count": null,
   "metadata": {
    "collapsed": true
   },
   "outputs": [],
   "source": [
    "def find_accuracy(test, weights):\n",
    "    y_pred = np.zeros(len(test))\n",
    "    for t in range(len(test)):\n",
    "        if weights[0] * test[t, 0] + weights[1] * test[t, 1] + weights[2] > 0: \n",
    "            y_pred[t] = 1\n",
    "        else:\n",
    "            y_pred[t] = -1\n",
    "    #print(y_pred)\n",
    "    y_true = test[:, 3]\n",
    "    #print(y_true)\n",
    "    accuracy = accuracy_score(y_true, y_pred)\n",
    "    print(accuracy)"
   ]
  },
  {
   "cell_type": "markdown",
   "metadata": {},
   "source": [
    "## 1. Dataset 1 - Skin Segmentation"
   ]
  },
  {
   "cell_type": "markdown",
   "metadata": {},
   "source": [
    "###"
   ]
  },
  {
   "cell_type": "code",
   "execution_count": 12,
   "metadata": {
    "collapsed": false
   },
   "outputs": [
    {
     "name": "stdout",
     "output_type": "stream",
     "text": [
      "[[ 1.         -0.16858609]\n",
      " [-0.16858609  1.        ]]\n",
      "[[ 1.         -0.70718789]\n",
      " [-0.70718789  1.        ]]\n",
      "[[ 1.          0.62996417]\n",
      " [ 0.62996417  1.        ]]\n"
     ]
    }
   ],
   "source": [
    "iris = datasets.load_iris()\n",
    "X = iris.data[:, :2]  # we only take the first two features.\n",
    "y = iris.target[:]\n",
    "\n",
    "#convert output to +1 and -1\n",
    "for i in range(len(y)):\n",
    "    if y[i] == 0:\n",
    "        y[i] = 1\n",
    "    else:\n",
    "        y[i] = -1\n",
    "\n",
    "# add 1 at the end\n",
    "X = np.insert(X, X.shape[1], 1, axis = 1)\n",
    "\n",
    "# shuffle dataset\n",
    "a = np.c_[X, y]\n",
    "np.random.shuffle(a)\n",
    "split = len(a) // 3\n",
    "test, train = a[:split], a[split:]\n",
    "#print(test)\n",
    "\n",
    "X_train = train[:, :3]\n",
    "y_train = train[:, 3]\n",
    "\n",
    "print (np.corrcoef(X_train[:, 0], X_train[:, 1]))\n",
    "print (np.corrcoef(X_train[:, 0], y_train))\n",
    "print (np.corrcoef(X_train[:, 1], y_train))"
   ]
  },
  {
   "cell_type": "code",
   "execution_count": 5,
   "metadata": {
    "collapsed": false
   },
   "outputs": [],
   "source": [
    "alpha = SVM_dual(X_train, y_train, C = 10, num_iterations = 500)"
   ]
  },
  {
   "cell_type": "code",
   "execution_count": 6,
   "metadata": {
    "collapsed": false
   },
   "outputs": [
    {
     "name": "stdout",
     "output_type": "stream",
     "text": [
      "-2.86336495882 x1 + 3.98709175372 x2 + 3.06275891391\n",
      "[12 25 27 28 40 58 67 70 75 78 81 82]\n"
     ]
    }
   ],
   "source": [
    "weights = np.dot(y_train * alpha, X_train)\n",
    "print(weights[0], \"x1 +\", weights[1], \"x2 +\", weights[2])\n",
    "support_vectors = np.where(alpha > 0)\n",
    "print(support_vectors[0])"
   ]
  },
  {
   "cell_type": "code",
   "execution_count": 7,
   "metadata": {
    "collapsed": false
   },
   "outputs": [
    {
     "name": "stdout",
     "output_type": "stream",
     "text": [
      "1.0\n"
     ]
    }
   ],
   "source": [
    "y_pred = np.zeros(len(test))\n",
    "for t in range(len(test)):\n",
    "    if weights[0] * test[t, 0] + weights[1] * test[t, 1] + weights[2] > 0: \n",
    "        y_pred[t] = 1\n",
    "    else:\n",
    "        y_pred[t] = -1\n",
    "#print(y_pred)\n",
    "y_true = test[:, 3]\n",
    "#print(y_true)\n",
    "accuracy = accuracy_score(y_true, y_pred)\n",
    "print(accuracy)"
   ]
  },
  {
   "cell_type": "code",
   "execution_count": 8,
   "metadata": {
    "collapsed": false
   },
   "outputs": [
    {
     "data": {
      "image/png": "[encoded data removed]",
      "text/plain": [
       "<matplotlib.figure.Figure at 0x7fc4423e5160>"
      ]
     },
     "metadata": {},
     "output_type": "display_data"
    },
    {
     "data": {
      "image/png": "[encoded data removed]",
      "text/plain": [
       "<matplotlib.figure.Figure at 0x7fc4423e58d0>"
      ]
     },
     "metadata": {},
     "output_type": "display_data"
    }
   ],
   "source": [
    "x_min, x_max = X_train[:, 0].min() - .5, X_train[:, 0].max() + .5\n",
    "y_min, y_max = X_train[:, 1].min() - .5, X_train[:, 1].max() + .5\n",
    "plt.figure(1, figsize=(8, 6))\n",
    "plt.subplot(1, 2, 1)\n",
    "plt.clf()\n",
    "\n",
    "# Plot the training points\n",
    "for r in range(len(train)):\n",
    "    if train[r][3] == 1:\n",
    "        plt.plot(train[r][0], train[r][1], marker='o', markersize=7, color=\"red\")\n",
    "    else:\n",
    "        plt.plot(train[r][0], train[r][1], marker='o', markersize=7, color=\"blue\")\n",
    "\n",
    "plt.xlabel('Sepal length')\n",
    "plt.ylabel('Sepal width')\n",
    "\n",
    "plt.xlim(x_min, x_max)\n",
    "plt.ylim(y_min, y_max)\n",
    "plt.xticks(())\n",
    "plt.yticks(())\n",
    "plt.show()\n",
    "\n",
    "plt.figure(2, figsize=(8, 6))\n",
    "plt.clf()\n",
    "\n",
    "for r in range(len(train)):\n",
    "    if train[r][3] == 1:\n",
    "        plt.plot(train[r][0], train[r][1], marker='o', markersize=7, color=\"red\")\n",
    "    else:\n",
    "        plt.plot(train[r][0], train[r][1], marker='o', markersize=7, color=\"blue\")\n",
    "\n",
    "#plt.scatter(X[:, 0], X[:, 1], c=y, cmap=plt.cm.Paired)\n",
    "x = np.r_[-5 : 10 : 0.5]\n",
    "plt.plot(x, -(weights[0]/weights[1]) * x -(weights[2]/weights[1]), label = 'manual', color = 'black')\n",
    "\n",
    "for r in support_vectors[0]:\n",
    "    plt.plot(X_train[r][0], X_train[r][1], marker='o', markersize=7, color=\"green\")\n",
    "\n",
    "plt.xlabel('Sepal length')\n",
    "plt.ylabel('Sepal width')\n",
    "\n",
    "plt.xlim(x_min, x_max)\n",
    "plt.ylim(y_min, y_max)\n",
    "plt.xticks(())\n",
    "plt.yticks(())\n",
    "plt.show()"
   ]
  },
  {
   "cell_type": "code",
   "execution_count": null,
   "metadata": {
    "collapsed": true
   },
   "outputs": [],
   "source": []
  }
 ],
 "metadata": {
  "kernelspec": {
   "display_name": "Python 3",
   "language": "python",
   "name": "python3"
  },
  "language_info": {
   "codemirror_mode": {
    "name": "ipython",
    "version": 3
   },
   "file_extension": ".py",
   "mimetype": "text/x-python",
   "name": "python",
   "nbconvert_exporter": "python",
   "pygments_lexer": "ipython3",
   "version": "3.5.2"
  }
 },
 "nbformat": 4,
 "nbformat_minor": 1
}
