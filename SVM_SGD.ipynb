{
 "cells": [
  {
   "cell_type": "code",
   "execution_count": 1,
   "metadata": {
    "collapsed": true
   },
   "outputs": [],
   "source": [
    "import matplotlib.pyplot as plt\n",
    "import matplotlib.colors as colors\n",
    "from sklearn.metrics import accuracy_score\n",
    "from sklearn import datasets\n",
    "import numpy as np\n",
    "import random"
   ]
  },
  {
   "cell_type": "markdown",
   "metadata": {},
   "source": [
    "## SGD for SVM"
   ]
  },
  {
   "cell_type": "code",
   "execution_count": 2,
   "metadata": {
    "collapsed": true
   },
   "outputs": [],
   "source": [
    "def SVM_dual(X, y, C, num_iterations):\n",
    "    n = len(y)\n",
    "    learning_rate = 1 / np.diagonal(np.dot(X, X.T))\n",
    "    K = np.dot(X, X.T)\n",
    "    alpha = np.zeros(n)\n",
    "    for count in range(num_iterations):\n",
    "        for k in range(n):  \n",
    "            # gradient = 1 - y[k] * np.sum(alpha * y * K[:, k]) (slow)           \n",
    "            gradient = 1 - y[k] * np.dot(alpha, y * K[:, k])\n",
    "            alpha[k] += learning_rate[k] * gradient\n",
    "            alpha[k] = 0 if alpha[k] < 0 else C if alpha[k] > C else alpha[k]\n",
    "\n",
    "    return alpha"
   ]
  },
  {
   "cell_type": "code",
   "execution_count": 3,
   "metadata": {
    "collapsed": true
   },
   "outputs": [],
   "source": [
    "def find_accuracy(X_test, y_test, weights):\n",
    "    dec_bound = np.dot(test[:, :-1], weights)\n",
    "    y_pred = np.ones(len(test))\n",
    "    y_pred[dec_bound < 0] = -1\n",
    "    accuracy = accuracy_score(y_test, y_pred)\n",
    "    return accuracy"
   ]
  },
  {
   "cell_type": "markdown",
   "metadata": {},
   "source": [
    "## Dataset 1 - Skin Segmentation"
   ]
  },
  {
   "cell_type": "markdown",
   "metadata": {},
   "source": [
    "### a. Preprocess Data"
   ]
  },
  {
   "cell_type": "code",
   "execution_count": 4,
   "metadata": {
    "collapsed": false
   },
   "outputs": [],
   "source": [
    "skins_nonskin = np.genfromtxt('Skin_NonSkin.txt')\n",
    "\n",
    "numPoints = 1000\n",
    "skin = skins_nonskin[:numPoints, :]\n",
    "nonskin = skins_nonskin[50859:(50859 + numPoints) , :]\n",
    "\n",
    "skin_norm = skin[:,:3] / 255\n",
    "nonskin_norm = nonskin[:,:3] / 255\n",
    "skin = np.c_[skin_norm, skin[:, -1]]\n",
    "nonskin = np.c_[nonskin_norm, nonskin[:, -1]]\n",
    "\n",
    "#shuffle dataset\n",
    "np.random.shuffle(skin)\n",
    "np.random.shuffle(nonskin)\n",
    "\n",
    "# split dataset\n",
    "split_skin = len(skin) // 3\n",
    "split_nonskin = len(nonskin) // 3\n",
    "test_skin, train_skin = skin[:split_skin], skin[split_skin:]\n",
    "test_nonskin, train_nonskin = nonskin[:split_nonskin], nonskin[split_nonskin:]\n",
    "\n",
    "# combine 2 datasets : skin and non-skin into 1 dataset\n",
    "train = np.r_[train_skin, train_nonskin]\n",
    "test = np.r_[test_skin, test_nonskin]\n",
    "\n",
    "# shuffle one more time\n",
    "np.random.shuffle(train)\n",
    "np.random.shuffle(test)\n",
    "\n",
    "# separate between X and y\n",
    "# X_train = train[:, :-1]\n",
    "# y_train = train[:, -1]\n",
    "# X_test = test[:, :-1]\n",
    "# y_test = test[:, -1]\n",
    "\n",
    "X_train = train[:, [0, 1]]\n",
    "y_train = train[:, -1]\n",
    "X_test = test[:, [0, 1]]\n",
    "y_test = test[:, -1]\n",
    "\n",
    "\n",
    "\n",
    "# covert y into the form: +1 and -1\n",
    "y_train[y_train != 1] = -1\n",
    "y_test[y_test != 1] = -1\n",
    "\n",
    "# add 1 at the end of X\n",
    "X_train = np.insert(X_train, X_train.shape[1], 1, axis = 1)\n",
    "X_test = np.insert(X_test, X_test.shape[1], 1, axis = 1)\n",
    "\n",
    "#print (np.corrcoef(X_train[:, 0], X_train[:, 1]))\n",
    "#print (np.corrcoef(X_train[:, 0], y_train))"
   ]
  },
  {
   "cell_type": "code",
   "execution_count": 5,
   "metadata": {
    "collapsed": false
   },
   "outputs": [
    {
     "name": "stdout",
     "output_type": "stream",
     "text": [
      "[[ 0.29411765  0.32941176  1.        ]\n",
      " [ 0.71372549  0.70196078  1.        ]\n",
      " [ 0.29411765  0.35294118  1.        ]\n",
      " ..., \n",
      " [ 0.71372549  0.70196078  1.        ]\n",
      " [ 0.28235294  0.3254902   1.        ]\n",
      " [ 0.63921569  0.63529412  1.        ]]\n",
      "[[ 0.81176471  0.84313725  1.        ]\n",
      " [ 0.30588235  0.3372549   1.        ]\n",
      " [ 0.31372549  0.35294118  1.        ]\n",
      " ..., \n",
      " [ 0.75686275  0.75294118  1.        ]\n",
      " [ 0.79607843  0.83529412  1.        ]\n",
      " [ 0.73333333  0.72941176  1.        ]]\n"
     ]
    }
   ],
   "source": [
    "print(X_train)\n",
    "print(X_test)"
   ]
  },
  {
   "cell_type": "markdown",
   "metadata": {},
   "source": [
    "### b. Train Data"
   ]
  },
  {
   "cell_type": "code",
   "execution_count": 6,
   "metadata": {
    "collapsed": false
   },
   "outputs": [],
   "source": [
    "alpha = SVM_dual(X_train, y_train, C = 600, num_iterations = 1000)"
   ]
  },
  {
   "cell_type": "markdown",
   "metadata": {},
   "source": [
    "### c. Support Vectors"
   ]
  },
  {
   "cell_type": "code",
   "execution_count": 7,
   "metadata": {
    "collapsed": false
   },
   "outputs": [
    {
     "name": "stdout",
     "output_type": "stream",
     "text": [
      "Decision boundary:\n",
      "-84.6866909509 x1 + 84.5807824079 x2 + -1.25443840556\n",
      "Support Vectors:\n",
      "[   9   11   12   13   46   48   50   58   82   85   88   91  102  106  108\n",
      "  110  114  118  122  139  148  152  167  182  201  224  229  238  246  258\n",
      "  262  266  275  276  278  286  287  291  298  305  323  329  337  343  349\n",
      "  351  354  360  361  370  375  376  383  390  394  402  404  419  425  430\n",
      "  439  445  446  450  458  459  463  474  482  491  499  508  588  592  597\n",
      "  607  638  651  657  672  673  679  680  694  695  698  700  706  713  719\n",
      "  731  735  736  740  745  749  763  790  793  795  799  811  816  819  820\n",
      "  821  827  837  845  849  852  856  858  868  871  874  879  881  888  990\n",
      "  993  994 1009 1023 1030 1032 1034 1051 1052 1063 1075 1086 1116 1118 1120\n",
      " 1122 1123 1130 1133 1136 1145 1146 1148 1153 1154 1158 1166 1167 1189 1196\n",
      " 1201 1215 1216 1220 1226 1233 1234 1237 1239 1241 1242 1255 1264 1265 1273\n",
      " 1275 1290 1306 1317 1325]\n"
     ]
    }
   ],
   "source": [
    "weights = np.dot(y_train * alpha, X_train)\n",
    "print(\"Decision boundary:\")\n",
    "print(weights[0], \"x1 +\", weights[1], \"x2 +\", weights[2])\n",
    "support_vectors = np.where(alpha > 0)\n",
    "print(\"Support Vectors:\") \n",
    "print(support_vectors[0])"
   ]
  },
  {
   "cell_type": "markdown",
   "metadata": {},
   "source": [
    "### d. Test Data\n",
    "Accuracy ~ 96%"
   ]
  },
  {
   "cell_type": "code",
   "execution_count": 8,
   "metadata": {
    "collapsed": false
   },
   "outputs": [
    {
     "name": "stdout",
     "output_type": "stream",
     "text": [
      "Accuracy: 0.977477477477\n"
     ]
    }
   ],
   "source": [
    "accuracy = find_accuracy(X_test, y_test, weights)\n",
    "print(\"Accuracy:\", accuracy)"
   ]
  },
  {
   "cell_type": "markdown",
   "metadata": {},
   "source": [
    "### e. Visualize\n",
    "Support vectors are green"
   ]
  },
  {
   "cell_type": "code",
   "execution_count": 9,
   "metadata": {
    "collapsed": false
   },
   "outputs": [
    {
     "data": {
      "image/png": "[encoded data removed]",
      "text/plain": [
       "<matplotlib.figure.Figure at 0x7faf8b380be0>"
      ]
     },
     "metadata": {},
     "output_type": "display_data"
    },
    {
     "data": {
      "image/png": "[encoded data removed]",
      "text/plain": [
       "<matplotlib.figure.Figure at 0x7faf8b3812e8>"
      ]
     },
     "metadata": {},
     "output_type": "display_data"
    }
   ],
   "source": [
    "x_min, x_max = X_train[:, 0].min() - .05, X_train[:, 0].max() + .05\n",
    "y_min, y_max = X_train[:, 1].min() - .05, X_train[:, 1].max() + .05\n",
    "plt.figure(1, figsize=(8, 6))\n",
    "plt.clf()\n",
    "\n",
    "# Plot the training points\n",
    "X_pos = X_train[y_train == 1]\n",
    "X_neg = X_train[y_train == -1]\n",
    "\n",
    "plt.scatter(X_pos[:, 0], X_pos[:, 1], color=\"red\")\n",
    "plt.scatter(X_neg[:, 0], X_neg[:, 1], color=\"blue\")\n",
    "\n",
    "plt.xlabel('B-component')\n",
    "plt.ylabel('G-component')\n",
    "\n",
    "plt.xlim(x_min, x_max)\n",
    "plt.ylim(y_min, y_max)\n",
    "plt.xticks(())\n",
    "plt.yticks(())\n",
    "plt.show()\n",
    "\n",
    "plt.figure(2, figsize=(8, 6))\n",
    "plt.clf()\n",
    "\n",
    "# Plot the training points\n",
    "X_pos = X_train[y_train == 1]\n",
    "X_neg = X_train[y_train == -1]\n",
    "\n",
    "plt.scatter(X_pos[:, 0], X_pos[:, 1], color=\"red\")\n",
    "plt.scatter(X_neg[:, 0], X_neg[:, 1], color=\"blue\")\n",
    "\n",
    "x = np.r_[-5 : 10 : 0.5]\n",
    "plt.plot(x, -(weights[0]/weights[1]) * x -(weights[2]/weights[1]), label = 'manual', color = 'black')\n",
    "\n",
    "for r in support_vectors[0]:\n",
    "    plt.plot(X_train[r][0], X_train[r][1], marker='o', markersize=7, color=\"green\")\n",
    "\n",
    "plt.xlabel('B-component')\n",
    "plt.ylabel('G-component')\n",
    "\n",
    "plt.xlim(x_min, x_max)\n",
    "plt.ylim(y_min, y_max)\n",
    "plt.xticks(())\n",
    "plt.yticks(())\n",
    "plt.show()"
   ]
  },
  {
   "cell_type": "markdown",
   "metadata": {
    "collapsed": true
   },
   "source": [
    "## Dataset 2 - Iris"
   ]
  },
  {
   "cell_type": "markdown",
   "metadata": {},
   "source": [
    "### a. Preprocess Data"
   ]
  },
  {
   "cell_type": "code",
   "execution_count": 10,
   "metadata": {
    "collapsed": false
   },
   "outputs": [],
   "source": [
    "iris = datasets.load_iris()\n",
    "X = iris.data[:, :2]  # we only take the first two features.\n",
    "y = iris.target[:]\n",
    "\n",
    "#convert output to +1 and -1\n",
    "y[y != 0] = -1\n",
    "y[y == 0] = 1\n",
    "\n",
    "# add 1 at the end\n",
    "X = np.insert(X, X.shape[1], 1, axis = 1)\n",
    "\n",
    "# shuffle dataset\n",
    "a = np.c_[X, y]\n",
    "np.random.shuffle(a)\n",
    "split = len(a) // 3\n",
    "test, train = a[:split], a[split:]\n",
    "#print(test)\n",
    "\n",
    "X_train = train[:, :3]\n",
    "y_train = train[:, 3]\n",
    "X_test = test[:, :3]\n",
    "y_test = test[:, 3]\n",
    "\n",
    "#print (np.corrcoef(X_train[:, 0], X_train[:, 1]))\n",
    "#print (np.corrcoef(X_train[:, 0], y_train))\n",
    "#print (np.corrcoef(X_train[:, 1], y_train))"
   ]
  },
  {
   "cell_type": "markdown",
   "metadata": {},
   "source": [
    "### b. Train Data"
   ]
  },
  {
   "cell_type": "code",
   "execution_count": 11,
   "metadata": {
    "collapsed": true
   },
   "outputs": [],
   "source": [
    "alpha = SVM_dual(X_train, y_train, C = 10, num_iterations = 500)"
   ]
  },
  {
   "cell_type": "markdown",
   "metadata": {},
   "source": [
    "### c. Support Vectors"
   ]
  },
  {
   "cell_type": "code",
   "execution_count": 12,
   "metadata": {
    "collapsed": false
   },
   "outputs": [
    {
     "name": "stdout",
     "output_type": "stream",
     "text": [
      "Decision boundary:\n",
      "-2.90514758139 x1 + 3.91151862889 x2 + 3.38863360128\n",
      "Support Vectors:\n",
      "[ 1  5 10 15 20 23 36 66 68 75 83]\n"
     ]
    }
   ],
   "source": [
    "weights = np.dot(y_train * alpha, X_train)\n",
    "print(\"Decision boundary:\")\n",
    "print(weights[0], \"x1 +\", weights[1], \"x2 +\", weights[2])\n",
    "support_vectors = np.where(alpha > 0)\n",
    "print(\"Support Vectors:\") \n",
    "print(support_vectors[0])"
   ]
  },
  {
   "cell_type": "markdown",
   "metadata": {},
   "source": [
    "### d. Test Data"
   ]
  },
  {
   "cell_type": "code",
   "execution_count": 13,
   "metadata": {
    "collapsed": false
   },
   "outputs": [
    {
     "name": "stdout",
     "output_type": "stream",
     "text": [
      "Accuracy: 1.0\n"
     ]
    }
   ],
   "source": [
    "accuracy = find_accuracy(X_test, y_test, weights)\n",
    "print(\"Accuracy:\", accuracy)"
   ]
  },
  {
   "cell_type": "markdown",
   "metadata": {},
   "source": [
    "### e. Visualize"
   ]
  },
  {
   "cell_type": "code",
   "execution_count": 14,
   "metadata": {
    "collapsed": false
   },
   "outputs": [
    {
     "data": {
      "image/png": "[encoded data removed]",
      "text/plain": [
       "<matplotlib.figure.Figure at 0x7faf8615ccc0>"
      ]
     },
     "metadata": {},
     "output_type": "display_data"
    },
    {
     "data": {
      "image/png": "[encoded data removed]",
      "text/plain": [
       "<matplotlib.figure.Figure at 0x7faf81a78400>"
      ]
     },
     "metadata": {},
     "output_type": "display_data"
    }
   ],
   "source": [
    "x_min, x_max = X_train[:, 0].min() - .5, X_train[:, 0].max() + .5\n",
    "y_min, y_max = X_train[:, 1].min() - .5, X_train[:, 1].max() + .5\n",
    "plt.figure(1, figsize=(8, 6))\n",
    "plt.subplot(1, 2, 1)\n",
    "plt.clf()\n",
    "\n",
    "X_pos = X_train[y_train == 1]\n",
    "X_neg = X_train[y_train == -1]\n",
    "\n",
    "plt.scatter(X_pos[:, 0], X_pos[:, 1], color=\"red\")\n",
    "plt.scatter(X_neg[:, 0], X_neg[:, 1], color=\"blue\")\n",
    "\n",
    "plt.xlabel('Sepal length')\n",
    "plt.ylabel('Sepal width')\n",
    "\n",
    "plt.xlim(x_min, x_max)\n",
    "plt.ylim(y_min, y_max)\n",
    "plt.xticks(())\n",
    "plt.yticks(())\n",
    "plt.show()\n",
    "\n",
    "plt.figure(2, figsize=(8, 6))\n",
    "plt.clf()\n",
    "X_pos = X_train[y_train == 1]\n",
    "X_neg = X_train[y_train == -1]\n",
    "\n",
    "plt.scatter(X_pos[:, 0], X_pos[:, 1], color=\"red\")\n",
    "plt.scatter(X_neg[:, 0], X_neg[:, 1], color=\"blue\")\n",
    "\n",
    "x = np.r_[-5 : 10 : 0.5]\n",
    "plt.plot(x, -(weights[0]/weights[1]) * x -(weights[2]/weights[1]), label = 'manual', color = 'black')\n",
    "\n",
    "for r in support_vectors[0]:\n",
    "    plt.plot(X_train[r][0], X_train[r][1], marker='o', markersize=7, color=\"green\")\n",
    "\n",
    "plt.xlabel('Sepal length')\n",
    "plt.ylabel('Sepal width')\n",
    "\n",
    "plt.xlim(x_min, x_max)\n",
    "plt.ylim(y_min, y_max)\n",
    "plt.xticks(())\n",
    "plt.yticks(())\n",
    "plt.show()"
   ]
  },
  {
   "cell_type": "markdown",
   "metadata": {},
   "source": [
    "## Dataset 3: Pima Indians Diabetes"
   ]
  },
  {
   "cell_type": "markdown",
   "metadata": {},
   "source": [
    "### a. Preprocess Data"
   ]
  },
  {
   "cell_type": "code",
   "execution_count": 15,
   "metadata": {
    "collapsed": false
   },
   "outputs": [],
   "source": [
    "diabetes = np.genfromtxt('pima-indians-diabetes.data', delimiter = \",\")"
   ]
  },
  {
   "cell_type": "code",
   "execution_count": 16,
   "metadata": {
    "collapsed": false
   },
   "outputs": [],
   "source": [
    "X = diabetes[:, :-1]  # we only take the first two features.\n",
    "y = diabetes[:, -1]\n",
    "y[y == 0] = -1\n",
    "\n",
    "# shuffle dataset\n",
    "a = np.c_[X, y]\n",
    "np.random.shuffle(a)\n",
    "split = len(a) // 3\n",
    "test, train = a[:split], a[split:]\n",
    "\n",
    "X_train = train[:, :-1]\n",
    "y_train = train[:, -1]\n",
    "X_test = test[:, :-1]\n",
    "y_test = test[:, -1]\n",
    "\n"
   ]
  },
  {
   "cell_type": "markdown",
   "metadata": {},
   "source": [
    "### b. Train Data"
   ]
  },
  {
   "cell_type": "code",
   "execution_count": 17,
   "metadata": {
    "collapsed": true
   },
   "outputs": [],
   "source": [
    "alpha = SVM_dual(X_train, y_train, C = 10, num_iterations = 3000)"
   ]
  },
  {
   "cell_type": "markdown",
   "metadata": {},
   "source": [
    "### c. Support Vectors"
   ]
  },
  {
   "cell_type": "code",
   "execution_count": 18,
   "metadata": {
    "collapsed": false
   },
   "outputs": [
    {
     "name": "stdout",
     "output_type": "stream",
     "text": [
      "Support Vectors\n",
      "[  2   6   7   8   9  10  13  15  16  17  18  19  20  23  24  27  28  29\n",
      "  30  31  32  33  36  37  39  40  41  42  44  46  47  48  49  50  51  52\n",
      "  53  54  56  58  59  60  62  64  65  66  67  68  69  70  71  72  73  74\n",
      "  75  76  77  78  79  80  81  82  83  87  88  89  90  92  93  96  97  98\n",
      "  99 100 101 102 103 104 105 106 109 110 113 114 117 121 122 126 127 128\n",
      " 130 131 132 133 134 135 136 137 138 139 141 142 143 145 146 147 148 149\n",
      " 150 151 152 153 154 155 156 157 159 161 163 164 165 166 167 168 169 170\n",
      " 171 178 179 180 181 182 183 184 185 186 187 188 189 190 193 196 197 198\n",
      " 199 205 206 208 210 212 214 215 216 217 221 223 226 227 228 229 230 231\n",
      " 232 233 235 236 238 240 242 243 244 245 247 248 249 250 253 255 256 257\n",
      " 258 259 260 261 262 263 264 265 266 268 269 270 271 272 273 276 277 278\n",
      " 279 281 283 284 286 287 288 294 295 297 298 299 300 301 302 304 305 306\n",
      " 307 308 309 310 312 313 314 315 317 318 319 320 321 324 325 326 327 331\n",
      " 332 333 334 335 336 339 340 342 347 349 350 351 356 359 360 361 362 366\n",
      " 367 368 369 371 372 373 374 378 379 380 381 383 384 385 386 387 388 389\n",
      " 393 398 399 400 401 405 406 407 414 415 417 418 419 421 423 424 425 428\n",
      " 430 431 432 433 434 435 436 438 440 441 442 443 444 445 448 449 450 451\n",
      " 452 453 454 455 459 460 461 467 468 477 478 479 481 483 486 487 488 489\n",
      " 490 491 492 493 494 495 496 499 500 502 503 504 506 507 508 509 510]\n"
     ]
    }
   ],
   "source": [
    "weights = np.dot(y_train * alpha, X_train)\n",
    "support_vectors = np.where(alpha > 0)\n",
    "print(\"Support Vectors\")\n",
    "print(support_vectors[0])"
   ]
  },
  {
   "cell_type": "markdown",
   "metadata": {},
   "source": [
    "### d. Test Data"
   ]
  },
  {
   "cell_type": "code",
   "execution_count": 19,
   "metadata": {
    "collapsed": false
   },
   "outputs": [
    {
     "name": "stdout",
     "output_type": "stream",
     "text": [
      "Accuracy: 0.6328125\n"
     ]
    }
   ],
   "source": [
    "accuracy = find_accuracy(X_test, y_test, weights)\n",
    "print(\"Accuracy:\", accuracy)"
   ]
  }
 ],
 "metadata": {
  "kernelspec": {
   "display_name": "Python 3",
   "language": "python",
   "name": "python3"
  },
  "language_info": {
   "codemirror_mode": {
    "name": "ipython",
    "version": 3
   },
   "file_extension": ".py",
   "mimetype": "text/x-python",
   "name": "python",
   "nbconvert_exporter": "python",
   "pygments_lexer": "ipython3",
   "version": "3.5.2"
  }
 },
 "nbformat": 4,
 "nbformat_minor": 1
}
